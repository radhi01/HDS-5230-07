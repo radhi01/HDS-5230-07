{
 "cells": [
  {
   "cell_type": "markdown",
   "metadata": {
    "application/vnd.databricks.v1+cell": {
     "cellMetadata": {},
     "inputWidgets": {},
     "nuid": "96816ed7-b08a-4ca3-abb9-f99880c3535d",
     "showTitle": false,
     "tableResultSettingsMap": {},
     "title": ""
    }
   },
   "source": [
    "\n",
    "## Unzip and Load datasets\n"
   ]
  },
  {
   "cell_type": "code",
   "execution_count": 0,
   "metadata": {
    "application/vnd.databricks.v1+cell": {
     "cellMetadata": {
      "byteLimit": 2048000,
      "rowLimit": 10000
     },
     "inputWidgets": {},
     "nuid": "1d38a8ed-ad1d-4b2b-8ae5-0e0ddbc29989",
     "showTitle": false,
     "tableResultSettingsMap": {},
     "title": ""
    }
   },
   "outputs": [
    {
     "output_type": "display_data",
     "data": {
      "text/html": [
       "<style scoped>\n",
       "  .table-result-container {\n",
       "    max-height: 300px;\n",
       "    overflow: auto;\n",
       "  }\n",
       "  table, th, td {\n",
       "    border: 1px solid black;\n",
       "    border-collapse: collapse;\n",
       "  }\n",
       "  th, td {\n",
       "    padding: 5px;\n",
       "  }\n",
       "  th {\n",
       "    text-align: left;\n",
       "  }\n",
       "</style><div class='table-result-container'><table class='table-result'><thead style='background-color: white'><tr><th>path</th><th>name</th><th>size</th><th>modificationTime</th></tr></thead><tbody><tr><td>dbfs:/FileStore/tables/PGYR2023_P01302025_01212025.zip</td><td>PGYR2023_P01302025_01212025.zip</td><td>789005271</td><td>1742771449000</td></tr><tr><td>dbfs:/FileStore/tables/PHPRFL_P01302025_01212025.zip</td><td>PHPRFL_P01302025_01212025.zip</td><td>82966770</td><td>1742770908000</td></tr></tbody></table></div>"
      ]
     },
     "metadata": {
      "application/vnd.databricks.v1+output": {
       "addedWidgets": {},
       "aggData": [],
       "aggError": "",
       "aggOverflow": false,
       "aggSchema": [],
       "aggSeriesLimitReached": false,
       "aggType": "",
       "arguments": {},
       "columnCustomDisplayInfos": {},
       "data": [
        [
         "dbfs:/FileStore/tables/PGYR2023_P01302025_01212025.zip",
         "PGYR2023_P01302025_01212025.zip",
         789005271,
         1742771449000
        ],
        [
         "dbfs:/FileStore/tables/PHPRFL_P01302025_01212025.zip",
         "PHPRFL_P01302025_01212025.zip",
         82966770,
         1742770908000
        ]
       ],
       "datasetInfos": [],
       "dbfsResultPath": null,
       "isJsonSchema": true,
       "metadata": {},
       "overflow": false,
       "plotOptions": {
        "customPlotOptions": {},
        "displayType": "table",
        "pivotAggregation": null,
        "pivotColumns": null,
        "xColumns": null,
        "yColumns": null
       },
       "removedWidgets": [],
       "schema": [
        {
         "metadata": "{}",
         "name": "path",
         "type": "\"string\""
        },
        {
         "metadata": "{}",
         "name": "name",
         "type": "\"string\""
        },
        {
         "metadata": "{}",
         "name": "size",
         "type": "\"long\""
        },
        {
         "metadata": "{}",
         "name": "modificationTime",
         "type": "\"long\""
        }
       ],
       "type": "table"
      }
     },
     "output_type": "display_data"
    }
   ],
   "source": [
    "# Lets know\n",
    "display(dbutils.fs.ls(\"FileStore/tables/\"))  \n"
   ]
  },
  {
   "cell_type": "code",
   "execution_count": 0,
   "metadata": {
    "application/vnd.databricks.v1+cell": {
     "cellMetadata": {
      "byteLimit": 2048000,
      "rowLimit": 10000
     },
     "inputWidgets": {},
     "nuid": "6482be4c-f067-47c9-b0ac-35c938b94601",
     "showTitle": false,
     "tableResultSettingsMap": {},
     "title": ""
    }
   },
   "outputs": [
    {
     "output_type": "display_data",
     "data": {
      "text/html": [
       "<style scoped>\n",
       "  .table-result-container {\n",
       "    max-height: 300px;\n",
       "    overflow: auto;\n",
       "  }\n",
       "  table, th, td {\n",
       "    border: 1px solid black;\n",
       "    border-collapse: collapse;\n",
       "  }\n",
       "  th, td {\n",
       "    padding: 5px;\n",
       "  }\n",
       "  th {\n",
       "    text-align: left;\n",
       "  }\n",
       "</style><div class='table-result-container'><table class='table-result'><thead style='background-color: white'><tr><th>path</th><th>name</th><th>size</th><th>modificationTime</th></tr></thead><tbody><tr><td>dbfs:/FileStore/week07/pg_corrected.zip</td><td>pg_corrected.zip</td><td>789005271</td><td>1742776391000</td></tr><tr><td>dbfs:/FileStore/week07/pg_z.zip</td><td>pg_z.zip</td><td>789005271</td><td>1742777715000</td></tr><tr><td>dbfs:/FileStore/week07/pgz/</td><td>pgz/</td><td>0</td><td>0</td></tr><tr><td>dbfs:/FileStore/week07/ph_corrected.zip</td><td>ph_corrected.zip</td><td>82966770</td><td>1742776403000</td></tr><tr><td>dbfs:/FileStore/week07/ph_z.zip</td><td>ph_z.zip</td><td>82966770</td><td>1742777727000</td></tr><tr><td>dbfs:/FileStore/week07/phz/</td><td>phz/</td><td>0</td><td>0</td></tr></tbody></table></div>"
      ]
     },
     "metadata": {
      "application/vnd.databricks.v1+output": {
       "addedWidgets": {},
       "aggData": [],
       "aggError": "",
       "aggOverflow": false,
       "aggSchema": [],
       "aggSeriesLimitReached": false,
       "aggType": "",
       "arguments": {},
       "columnCustomDisplayInfos": {},
       "data": [
        [
         "dbfs:/FileStore/week07/pg_corrected.zip",
         "pg_corrected.zip",
         789005271,
         1742776391000
        ],
        [
         "dbfs:/FileStore/week07/pg_z.zip",
         "pg_z.zip",
         789005271,
         1742777715000
        ],
        [
         "dbfs:/FileStore/week07/pgz/",
         "pgz/",
         0,
         0
        ],
        [
         "dbfs:/FileStore/week07/ph_corrected.zip",
         "ph_corrected.zip",
         82966770,
         1742776403000
        ],
        [
         "dbfs:/FileStore/week07/ph_z.zip",
         "ph_z.zip",
         82966770,
         1742777727000
        ],
        [
         "dbfs:/FileStore/week07/phz/",
         "phz/",
         0,
         0
        ]
       ],
       "datasetInfos": [],
       "dbfsResultPath": null,
       "isJsonSchema": true,
       "metadata": {},
       "overflow": false,
       "plotOptions": {
        "customPlotOptions": {},
        "displayType": "table",
        "pivotAggregation": null,
        "pivotColumns": null,
        "xColumns": null,
        "yColumns": null
       },
       "removedWidgets": [],
       "schema": [
        {
         "metadata": "{}",
         "name": "path",
         "type": "\"string\""
        },
        {
         "metadata": "{}",
         "name": "name",
         "type": "\"string\""
        },
        {
         "metadata": "{}",
         "name": "size",
         "type": "\"long\""
        },
        {
         "metadata": "{}",
         "name": "modificationTime",
         "type": "\"long\""
        }
       ],
       "type": "table"
      }
     },
     "output_type": "display_data"
    }
   ],
   "source": [
    "import zipfile\n",
    "import os\n",
    "\n",
    "# File locations and type's\n",
    "file_location_1 = \"/FileStore/tables/PGYR2023_P01302025_01212025.zip\"\n",
    "file_type_1 = \"zip\"\n",
    "\n",
    "file_location_2 = \"/FileStore/tables/PHPRFL_P01302025_01212025.zip\"\n",
    "file_type_2 = \"zip\"\n",
    "\n",
    "dbutils.fs.mkdirs(\"dbfs:/FileStore/week07/\")\n",
    "dbutils.fs.mkdirs(\"dbfs:/FileStore/week07/pgz\")\n",
    "dbutils.fs.mkdirs(\"dbfs:/FileStore/week07/phz\")\n",
    "\n",
    "dbutils.fs.cp(\"dbfs:/FileStore/tables/PGYR2023_P01302025_01212025.zip\", \"dbfs:/FileStore/week07/pg_z.zip\")\n",
    "dbutils.fs.cp(\"dbfs:/FileStore/tables/PHPRFL_P01302025_01212025.zip\", \"dbfs:/FileStore/week07/ph_z.zip\")\n",
    "\n",
    "display(dbutils.fs.ls(\"dbfs:/FileStore/week07/\"))\n"
   ]
  },
  {
   "cell_type": "code",
   "execution_count": 0,
   "metadata": {
    "application/vnd.databricks.v1+cell": {
     "cellMetadata": {
      "byteLimit": 2048000,
      "rowLimit": 10000
     },
     "inputWidgets": {},
     "nuid": "f45ff738-e8cb-4c52-9704-08e33373ba17",
     "showTitle": false,
     "tableResultSettingsMap": {},
     "title": ""
    }
   },
   "outputs": [
    {
     "output_type": "stream",
     "name": "stdout",
     "output_type": "stream",
     "text": [
      "ZIP files copied to /tmp/ successfully.\nGeneral payments zip not found at /tmp/pg.zip\nRecipient payments zip not found at /tmp/ph.zip\n"
     ]
    }
   ],
   "source": [
    "import zipfile\n",
    "import shutil\n",
    "import os\n",
    "\n",
    "# If the file is mistakenly a directory, rename it to a proper .zip file\n",
    "dbutils.fs.mv(\"dbfs:/FileStore/week07/pg_z.zip\", \"dbfs:/FileStore/week07/pg_corrected.zip\")\n",
    "dbutils.fs.mv(\"dbfs:/FileStore/week07/ph_z.zip\", \"dbfs:/FileStore/week07/ph_corrected.zip\")\n",
    "\n",
    "\n",
    "# Correct paths after verifying the files\n",
    "zip1 = \"/dbfs/FileStore/week07/pg_corrected.zip\"  # Update if needed\n",
    "zip2 = \"/dbfs/FileStore/week07/ph_corrected.zip\"  # Update if needed\n",
    "tmp_zip1 = \"/tmp/pg.zip\"\n",
    "tmp_zip2 = \"/tmp/ph.zip\"\n",
    "pg_path = \"/dbfs/FileStore/week07/pgz\"\n",
    "ph_path = \"/dbfs/FileStore/week07/phz\"\n",
    "\n",
    "# Copy the files to /tmp/\n",
    "dbutils.fs.cp(\"dbfs:/FileStore/tables/PGYR2023_P01302025_01212025.zip\", tmp_zip1)\n",
    "dbutils.fs.cp(\"dbfs:/FileStore/tables/PHPRFL_P01302025_01212025.zip\", tmp_zip2)\n",
    "print(\"ZIP files copied to /tmp/ successfully.\")\n",
    "\n",
    "# Ensure directories exist for extraction\n",
    "os.makedirs(pg_path, exist_ok=True)\n",
    "os.makedirs(ph_path, exist_ok=True)\n",
    "\n",
    "# Extract General Payments Data\n",
    "if os.path.isfile(tmp_zip1):\n",
    "    with zipfile.ZipFile(tmp_zip1, 'r') as zip_ref:\n",
    "        zip_ref.extractall(pg_path)\n",
    "        print(\"General payments data extracted successfully.\")\n",
    "else:\n",
    "    print(f\"General payments zip not found at {tmp_zip1}\")\n",
    "\n",
    "# Extract Recipient Data\n",
    "if os.path.isfile(tmp_zip2):\n",
    "    with zipfile.ZipFile(tmp_zip2, 'r') as zip_ref:\n",
    "        zip_ref.extractall(ph_path)\n",
    "        print(\"Recipient data extracted successfully.\")\n",
    "else:\n",
    "    print(f\"Recipient payments zip not found at {tmp_zip2}\")\n"
   ]
  },
  {
   "cell_type": "code",
   "execution_count": 0,
   "metadata": {
    "application/vnd.databricks.v1+cell": {
     "cellMetadata": {
      "byteLimit": 2048000,
      "rowLimit": 10000
     },
     "inputWidgets": {},
     "nuid": "c8748884-1436-4942-ba00-7e9f40e0ed7c",
     "showTitle": false,
     "tableResultSettingsMap": {},
     "title": ""
    }
   },
   "outputs": [
    {
     "output_type": "stream",
     "name": "stdout",
     "output_type": "stream",
     "text": [
      "+-----------+----------------------+---------------------+--------------------+----------------------+----------------------------+---------------------+----------------------------+-----------------------------+---------------------------+-----------------------------+-----------------------------------------------+-----------------------------------------------+---------------+---------------+------------------+-----------------+------------------+---------------------+--------------------------------+--------------------------------+--------------------------------+--------------------------------+--------------------------------+--------------------------------+-----------------------------+-----------------------------+-----------------------------+-----------------------------+-----------------------------+-----------------------------+-------------------------------------+-------------------------------------+-------------------------------------+-------------------------------------+-------------------------------------+---------------------------------------------------------+-----------------------------------------------------------+-------------------------------------------------------------+--------------------------------------------------------------+----------------------------------------------------------------+---------------------------------+---------------+-------------------------------------------+------------------------------------+--------------------------------------+--------------+---------------+-----------------+-----------------------------+---------------------------------------+-----------------------------------------------------------------+-----------------+----------------------------------------------+----------------------+------------------------------+----------+------------------------------+-------------------------+---------------------------------+---------------------------------------------------------+--------------------------------------+--------------------------------------------------------+-----------------------------------+-----------------------------------------+---------------------------------+---------------------------------------------------------+--------------------------------------+--------------------------------------------------------+-----------------------------------+-----------------------------------------+---------------------------------+---------------------------------------------------------+--------------------------------------+--------------------------------------------------------+-----------------------------------+-----------------------------------------+---------------------------------+---------------------------------------------------------+--------------------------------------+--------------------------------------------------------+-----------------------------------+-----------------------------------------+---------------------------------+---------------------------------------------------------+--------------------------------------+--------------------------------------------------------+-----------------------------------+-----------------------------------------+------------+------------------------+\n|Change_Type|Covered_Recipient_Type|Teaching_Hospital_CCN|Teaching_Hospital_ID|Teaching_Hospital_Name|Covered_Recipient_Profile_ID|Covered_Recipient_NPI|Covered_Recipient_First_Name|Covered_Recipient_Middle_Name|Covered_Recipient_Last_Name|Covered_Recipient_Name_Suffix|Recipient_Primary_Business_Street_Address_Line1|Recipient_Primary_Business_Street_Address_Line2| Recipient_City|Recipient_State|Recipient_Zip_Code|Recipient_Country|Recipient_Province|Recipient_Postal_Code|Covered_Recipient_Primary_Type_1|Covered_Recipient_Primary_Type_2|Covered_Recipient_Primary_Type_3|Covered_Recipient_Primary_Type_4|Covered_Recipient_Primary_Type_5|Covered_Recipient_Primary_Type_6|Covered_Recipient_Specialty_1|Covered_Recipient_Specialty_2|Covered_Recipient_Specialty_3|Covered_Recipient_Specialty_4|Covered_Recipient_Specialty_5|Covered_Recipient_Specialty_6|Covered_Recipient_License_State_code1|Covered_Recipient_License_State_code2|Covered_Recipient_License_State_code3|Covered_Recipient_License_State_code4|Covered_Recipient_License_State_code5|Submitting_Applicable_Manufacturer_or_Applicable_GPO_Name|Applicable_Manufacturer_or_Applicable_GPO_Making_Payment_ID|Applicable_Manufacturer_or_Applicable_GPO_Making_Payment_Name|Applicable_Manufacturer_or_Applicable_GPO_Making_Payment_State|Applicable_Manufacturer_or_Applicable_GPO_Making_Payment_Country|Total_Amount_of_Payment_USDollars|Date_of_Payment|Number_of_Payments_Included_in_Total_Amount|Form_of_Payment_or_Transfer_of_Value|Nature_of_Payment_or_Transfer_of_Value|City_of_Travel|State_of_Travel|Country_of_Travel|Physician_Ownership_Indicator|Third_Party_Payment_Recipient_Indicator|Name_of_Third_Party_Entity_Receiving_Payment_or_Transfer_of_Value|Charity_Indicator|Third_Party_Equals_Covered_Recipient_Indicator|Contextual_Information|Delay_in_Publication_Indicator| Record_ID|Dispute_Status_for_Publication|Related_Product_Indicator|Covered_or_Noncovered_Indicator_1|Indicate_Drug_or_Biological_or_Device_or_Medical_Supply_1|Product_Category_or_Therapeutic_Area_1|Name_of_Drug_or_Biological_or_Device_or_Medical_Supply_1|Associated_Drug_or_Biological_NDC_1|Associated_Device_or_Medical_Supply_PDI_1|Covered_or_Noncovered_Indicator_2|Indicate_Drug_or_Biological_or_Device_or_Medical_Supply_2|Product_Category_or_Therapeutic_Area_2|Name_of_Drug_or_Biological_or_Device_or_Medical_Supply_2|Associated_Drug_or_Biological_NDC_2|Associated_Device_or_Medical_Supply_PDI_2|Covered_or_Noncovered_Indicator_3|Indicate_Drug_or_Biological_or_Device_or_Medical_Supply_3|Product_Category_or_Therapeutic_Area_3|Name_of_Drug_or_Biological_or_Device_or_Medical_Supply_3|Associated_Drug_or_Biological_NDC_3|Associated_Device_or_Medical_Supply_PDI_3|Covered_or_Noncovered_Indicator_4|Indicate_Drug_or_Biological_or_Device_or_Medical_Supply_4|Product_Category_or_Therapeutic_Area_4|Name_of_Drug_or_Biological_or_Device_or_Medical_Supply_4|Associated_Drug_or_Biological_NDC_4|Associated_Device_or_Medical_Supply_PDI_4|Covered_or_Noncovered_Indicator_5|Indicate_Drug_or_Biological_or_Device_or_Medical_Supply_5|Product_Category_or_Therapeutic_Area_5|Name_of_Drug_or_Biological_or_Device_or_Medical_Supply_5|Associated_Drug_or_Biological_NDC_5|Associated_Device_or_Medical_Supply_PDI_5|Program_Year|Payment_Publication_Date|\n+-----------+----------------------+---------------------+--------------------+----------------------+----------------------------+---------------------+----------------------------+-----------------------------+---------------------------+-----------------------------+-----------------------------------------------+-----------------------------------------------+---------------+---------------+------------------+-----------------+------------------+---------------------+--------------------------------+--------------------------------+--------------------------------+--------------------------------+--------------------------------+--------------------------------+-----------------------------+-----------------------------+-----------------------------+-----------------------------+-----------------------------+-----------------------------+-------------------------------------+-------------------------------------+-------------------------------------+-------------------------------------+-------------------------------------+---------------------------------------------------------+-----------------------------------------------------------+-------------------------------------------------------------+--------------------------------------------------------------+----------------------------------------------------------------+---------------------------------+---------------+-------------------------------------------+------------------------------------+--------------------------------------+--------------+---------------+-----------------+-----------------------------+---------------------------------------+-----------------------------------------------------------------+-----------------+----------------------------------------------+----------------------+------------------------------+----------+------------------------------+-------------------------+---------------------------------+---------------------------------------------------------+--------------------------------------+--------------------------------------------------------+-----------------------------------+-----------------------------------------+---------------------------------+---------------------------------------------------------+--------------------------------------+--------------------------------------------------------+-----------------------------------+-----------------------------------------+---------------------------------+---------------------------------------------------------+--------------------------------------+--------------------------------------------------------+-----------------------------------+-----------------------------------------+---------------------------------+---------------------------------------------------------+--------------------------------------+--------------------------------------------------------+-----------------------------------+-----------------------------------------+---------------------------------+---------------------------------------------------------+--------------------------------------+--------------------------------------------------------+-----------------------------------+-----------------------------------------+------------+------------------------+\n|    CHANGED|  Covered Recipient...|               220162|                9984|  Adventhealth Orlando|                        null|                 null|                        null|                         null|                       null|                         null|                               601 E Rollins St|                                           null|        Orlando|             FL|             32803|    United States|              null|                 null|                            null|                            null|                            null|                            null|                            null|                            null|                         null|                         null|                         null|                         null|                         null|                         null|                                 null|                                 null|                                 null|                                 null|                                 null|                                     Integra LifeScien...|                                               100000010950|                                         Integra LifeScien...|                                                            NJ|                                                   United States|                          2000.00|     07/20/2023|                                          1|                Cash or cash equi...|                                 Grant|          null|           null|             null|                           No|                   No Third Party Pa...|                                                             null|             null|                                          null|                  null|                            No|1031636873|                            No|                      Yes|                          Covered|                                                   Device|                   Neuro Critical Care|                                           CODMAN CERTAS|                               null|                           10381780529033|                             null|                                                     null|                                  null|                                                    null|                               null|                                     null|                             null|                                                     null|                                  null|                                                    null|                               null|                                     null|                             null|                                                     null|                                  null|                                                    null|                               null|                                     null|                             null|                                                     null|                                  null|                                                    null|                               null|                                     null|        2023|              01/30/2025|\n|    CHANGED|  Covered Recipient...|               220162|                9984|  Carle Foundation ...|                        null|                 null|                        null|                         null|                       null|                         null|                            2300 N Vermilion St|                                           null|       Danville|             IL|             61832|    United States|              null|                 null|                            null|                            null|                            null|                            null|                            null|                            null|                         null|                         null|                         null|                         null|                         null|                         null|                                 null|                                 null|                                 null|                                 null|                                 null|                                     Integra LifeScien...|                                               100000010950|                                         Integra LifeScien...|                                                            NJ|                                                   United States|                          1500.00|     11/03/2023|                                          1|                Cash or cash equi...|                                 Grant|          null|           null|             null|                           No|                   No Third Party Pa...|                                                             null|             null|                                          null|                  null|                            No|1031636879|                            No|                      Yes|                          Covered|                                                   Device|                   Neuro Critical Care|                                           CODMAN CERTAS|                               null|                           10381780529033|                             null|                                                     null|                                  null|                                                    null|                               null|                                     null|                             null|                                                     null|                                  null|                                                    null|                               null|                                     null|                             null|                                                     null|                                  null|                                                    null|                               null|                                     null|                             null|                                                     null|                                  null|                                                    null|                               null|                                     null|        2023|              01/30/2025|\n|    CHANGED|  Covered Recipient...|               220162|                9984|  St. Josephs Hospi...|                        null|                 null|                        null|                         null|                       null|                         null|                           4975 N Dysart Rd ...|                                           null|Litchfield Park|             AZ|             85340|    United States|              null|                 null|                            null|                            null|                            null|                            null|                            null|                            null|                         null|                         null|                         null|                         null|                         null|                         null|                                 null|                                 null|                                 null|                                 null|                                 null|                                     Integra LifeScien...|                                               100000010950|                                         Integra LifeScien...|                                                            NJ|                                                   United States|                          2500.00|     03/21/2023|                                          1|                Cash or cash equi...|                                 Grant|          null|           null|             null|                           No|                   No Third Party Pa...|                                                             null|             null|                                          null|                  null|                            No|1031636885|                            No|                      Yes|                          Covered|                                                   Device|                   Neuro Critical Care|                                           CODMAN CERTAS|                               null|                           10381780529033|                             null|                                                     null|                                  null|                                                    null|                               null|                                     null|                             null|                                                     null|                                  null|                                                    null|                               null|                                     null|                             null|                                                     null|                                  null|                                                    null|                               null|                                     null|                             null|                                                     null|                                  null|                                                    null|                               null|                                     null|        2023|              01/30/2025|\n|    CHANGED|  Covered Recipient...|               220162|                9984|  St. Josephs Hospi...|                        null|                 null|                        null|                         null|                       null|                         null|                           4975 N Dysart Rd ...|                                           null|Litchfield Park|             AZ|             85340|    United States|              null|                 null|                            null|                            null|                            null|                            null|                            null|                            null|                         null|                         null|                         null|                         null|                         null|                         null|                                 null|                                 null|                                 null|                                 null|                                 null|                                     Integra LifeScien...|                                               100000010950|                                         Integra LifeScien...|                                                            NJ|                                                   United States|                          3000.00|     04/14/2023|                                          1|                Cash or cash equi...|                                 Grant|          null|           null|             null|                           No|                   No Third Party Pa...|                                                             null|             null|                                          null|                  null|                            No|1031636889|                            No|                      Yes|                          Covered|                                                   Device|                   Neuro Critical Care|                                           CODMAN CERTAS|                               null|                           10381780529033|                             null|                                                     null|                                  null|                                                    null|                               null|                                     null|                             null|                                                     null|                                  null|                                                    null|                               null|                                     null|                             null|                                                     null|                                  null|                                                    null|                               null|                                     null|                             null|                                                     null|                                  null|                                                    null|                               null|                                     null|        2023|              01/30/2025|\n|    CHANGED|  Covered Recipient...|               220162|                9984|  Uc Davis Medical ...|                        null|                 null|                        null|                         null|                       null|                         null|                             2315 Stockton Blvd|                                           null|     Sacramento|             CA|             95817|    United States|              null|                 null|                            null|                            null|                            null|                            null|                            null|                            null|                         null|                         null|                         null|                         null|                         null|                         null|                                 null|                                 null|                                 null|                                 null|                                 null|                                     Integra LifeScien...|                                               100000010950|                                         Integra LifeScien...|                                                            NJ|                                                   United States|                          3921.61|     04/30/2023|                                          1|                Cash or cash equi...|                             Honoraria|          null|           null|             null|                           No|                   No Third Party Pa...|                                                             null|             null|                                          null|                  null|                            No|1031636896|                            No|                      Yes|                          Covered|                                                   Device|                   Neuro Critical Care|                                           CODMAN CERTAS|                               null|                           10381780529033|                          Covered|                                                   Device|                   Neuro Critical Care|                                            CUSA CLARITY|                               null|                           10381780126232|                             null|                                                     null|                                  null|                                                    null|                               null|                                     null|                             null|                                                     null|                                  null|                                                    null|                               null|                                     null|                             null|                                                     null|                                  null|                                                    null|                               null|                                     null|        2023|              01/30/2025|\n+-----------+----------------------+---------------------+--------------------+----------------------+----------------------------+---------------------+----------------------------+-----------------------------+---------------------------+-----------------------------+-----------------------------------------------+-----------------------------------------------+---------------+---------------+------------------+-----------------+------------------+---------------------+--------------------------------+--------------------------------+--------------------------------+--------------------------------+--------------------------------+--------------------------------+-----------------------------+-----------------------------+-----------------------------+-----------------------------+-----------------------------+-----------------------------+-------------------------------------+-------------------------------------+-------------------------------------+-------------------------------------+-------------------------------------+---------------------------------------------------------+-----------------------------------------------------------+-------------------------------------------------------------+--------------------------------------------------------------+----------------------------------------------------------------+---------------------------------+---------------+-------------------------------------------+------------------------------------+--------------------------------------+--------------+---------------+-----------------+-----------------------------+---------------------------------------+-----------------------------------------------------------------+-----------------+----------------------------------------------+----------------------+------------------------------+----------+------------------------------+-------------------------+---------------------------------+---------------------------------------------------------+--------------------------------------+--------------------------------------------------------+-----------------------------------+-----------------------------------------+---------------------------------+---------------------------------------------------------+--------------------------------------+--------------------------------------------------------+-----------------------------------+-----------------------------------------+---------------------------------+---------------------------------------------------------+--------------------------------------+--------------------------------------------------------+-----------------------------------+-----------------------------------------+---------------------------------+---------------------------------------------------------+--------------------------------------+--------------------------------------------------------+-----------------------------------+-----------------------------------------+---------------------------------+---------------------------------------------------------+--------------------------------------+--------------------------------------------------------+-----------------------------------+-----------------------------------------+------------+------------------------+\nonly showing top 5 rows\n\n"
     ]
    }
   ],
   "source": [
    "dbutils.fs.cp(\"dbfs:/FileStore/tables/PGYR2023_P01302025_01212025.zip\", \"file:/tmp/pg.zip\")\n",
    "dbutils.fs.cp(\"dbfs:/FileStore/tables/PHPRFL_P01302025_01212025.zip\", \"file:/tmp/ph.zip\")\n",
    "\n",
    "# Extract \n",
    "with zipfile.ZipFile(\"/tmp/pg.zip\", 'r') as zip_ref:\n",
    "    zip_ref.extractall(\"/tmp/pgf\")\n",
    "\n",
    "with zipfile.ZipFile(\"/tmp/ph.zip\", 'r') as zip_ref:\n",
    "    zip_ref.extractall(\"/tmp/phf\")\n",
    "\n",
    "\n",
    "#display(dbutils.fs.ls(\"dbfs:/FileStore/tables/\"))\n",
    "#destination_path = \"/dbfs/FileStore/tables/pgf.csv\"\n",
    "#with open(destination_path, 'w') as f:\n",
    "#    pass  # Just open the file in write mode to create it\n",
    "\n",
    "os.makedirs(\"/dbfs/FileStore/tables/\", exist_ok=True)\n",
    "# Copy general file to FileStore\n",
    "shutil.copy(\"/tmp/pgf/OP_DTL_GNRL_PGYR2023_P01302025_01212025.csv\", \"/dbfs/FileStore/tables/pgf.csv\")\n",
    "\n",
    "shutil.copy(\"/tmp/phf/OP_CVRD_RCPNT_PRFL_SPLMTL_P01302025_01212025.csv\", \"/dbfs/FileStore/tables/phf.csv\")\n",
    "\n",
    "df1 = spark.read.csv(\"file:/dbfs/FileStore/tables/pgf.csv\", header=True, inferSchema=True)\n",
    "\n",
    "df2 = spark.read.csv(\"file:/dbfs/FileStore/tables/phf.csv\", header=True, inferSchema=True)\n",
    "\n",
    "df1.show(5)"
   ]
  },
  {
   "cell_type": "code",
   "execution_count": 0,
   "metadata": {
    "application/vnd.databricks.v1+cell": {
     "cellMetadata": {},
     "inputWidgets": {},
     "nuid": "784a3416-b38b-40ea-966e-5254d2c0f589",
     "showTitle": false,
     "tableResultSettingsMap": {},
     "title": ""
    }
   },
   "outputs": [],
   "source": [
    "df2.show(2)"
   ]
  },
  {
   "cell_type": "code",
   "execution_count": 0,
   "metadata": {
    "application/vnd.databricks.v1+cell": {
     "cellMetadata": {
      "byteLimit": 2048000,
      "rowLimit": 10000
     },
     "inputWidgets": {},
     "nuid": "e7b67355-19ef-40d3-a02e-1d9d255c4ef0",
     "showTitle": false,
     "tableResultSettingsMap": {},
     "title": ""
    }
   },
   "outputs": [
    {
     "output_type": "stream",
     "name": "stdout",
     "output_type": "stream",
     "text": [
      "+--------------------------------------+------+\n|Nature_of_Payment_or_Transfer_of_Value| count|\n+--------------------------------------+------+\n|                  Compensation for ...|164093|\n|                        Consulting Fee|105239|\n|                    Travel and Lodging| 24793|\n|                             Honoraria| 13750|\n|                             Education| 13376|\n|                    Royalty or License| 11538|\n|                  Compensation for ...|  8658|\n|                                 Grant|  4922|\n|                  Space rental or f...|  4917|\n|                  Long term medical...|  2930|\n|                      Debt forgiveness|  1788|\n|                     Food and Beverage|   968|\n|                                  Gift|   630|\n|                          Acquisitions|   563|\n|                  Charitable Contri...|   239|\n|                         Entertainment|    30|\n+--------------------------------------+------+\n\n+--------------------------------------+--------+\n|Nature_of_Payment_or_Transfer_of_Value|   count|\n+--------------------------------------+--------+\n|                     Food and Beverage|13378464|\n|                    Travel and Lodging|  545086|\n|                  Compensation for ...|  236628|\n|                        Consulting Fee|  170630|\n|                             Education|  161078|\n|                                  Gift|   31786|\n|                             Honoraria|   20232|\n|                    Royalty or License|   15865|\n|                  Compensation for ...|   12234|\n|                         Entertainment|    7967|\n+--------------------------------------+--------+\n\n+--------------------------------------+--------------------+\n|Nature_of_Payment_or_Transfer_of_Value|        total_amount|\n+--------------------------------------+--------------------+\n|                    Royalty or License|1.1921745563299544E9|\n|                  Compensation for ...| 5.946326876543952E8|\n|                        Consulting Fee|5.1485587575853294E8|\n|                     Food and Beverage| 3.744878239687846E8|\n|                    Travel and Lodging|1.7954842382903343E8|\n|                                 Grant|1.1188856176522565E8|\n|                          Acquisitions|  7.19257768593669E7|\n|                             Education|  6.46953258850728E7|\n|                             Honoraria| 5.585182389374143E7|\n|                  Long term medical...|3.0098791903223038E7|\n+--------------------------------------+--------------------+\n\n+-----------------------------+--------------------+\n|Covered_Recipient_Specialty_1|        total_amount|\n+-----------------------------+--------------------+\n|                         null| 7.936674627555836E8|\n|         Allopathic & Oste...|4.0345021277223873E8|\n|         Allopathic & Oste...|1.3136300312194332E8|\n|         Allopathic & Oste...| 8.979213624269351E7|\n|         Allopathic & Oste...| 8.608847850082898E7|\n|         Allopathic & Oste...| 8.320264770937023E7|\n|         Allopathic & Oste...| 7.022084117953089E7|\n|         Allopathic & Oste...| 6.946894111538701E7|\n|         Allopathic & Oste...|   6.6772837355176E7|\n|         Allopathic & Oste...| 6.329825408609511E7|\n+-----------------------------+--------------------+\n\n+---------------------+--------------------+\n|Covered_Recipient_NPI|        total_amount|\n+---------------------+--------------------+\n|                 null| 8.064709526278374E8|\n|           1366487498|  3.39220252890625E7|\n|           1205980448|2.9434355869995117E7|\n|           1861451874|1.7306535259869576E7|\n|           1336247469|        1.60655155E7|\n|           1295737930|1.1600320239997864E7|\n|           1932140266|       8459144.28125|\n|           1669457354|  7810628.3250312805|\n|           1275512964|       6871466.53125|\n|           1811044548|   6660383.840976715|\n+---------------------+--------------------+\n\n"
     ]
    }
   ],
   "source": [
    "from pyspark.sql import functions as F\n",
    "\n",
    "# Q1. Nature of Payments with reimbursement amounts greater than $1,000 ordered by count\n",
    "df1_filtered = df1.filter(F.col(\"Total_Amount_of_Payment_USDollars\").cast(\"float\") > 1000)\n",
    "nature_c = df1_filtered.groupBy(\"Nature_of_Payment_or_Transfer_of_Value\").count()\n",
    "q1 = nature_c.orderBy(F.col(\"count\").desc())\n",
    "q1.show()\n",
    "\n",
    "# Q2. Top ten Nature of Payments by count\n",
    "nature_c = df1.groupBy(\"Nature_of_Payment_or_Transfer_of_Value\").count()\n",
    "q2 = nature_c.orderBy(F.col(\"count\").desc()).limit(10)\n",
    "q2.show()\n",
    "\n",
    "# Q3. Top ten Nature of Payments by total amount\n",
    "nature_a = df1.withColumn(\"Total_Amount_of_Payment_USDollars\", F.col(\"Total_Amount_of_Payment_USDollars\").cast(\"float\")) \\\n",
    "    .groupBy(\"Nature_of_Payment_or_Transfer_of_Value\") \\\n",
    "    .agg(F.sum(\"Total_Amount_of_Payment_USDollars\").alias(\"total_amount\"))\n",
    "\n",
    "q3 = nature_a.orderBy(F.col(\"total_amount\").desc()).limit(10)\n",
    "q3.show()\n",
    "\n",
    "# Q4. Top ten physician specialties by total amount\n",
    "specialty = df1.withColumn(\"Total_Amount_of_Payment_USDollars\", F.col(\"Total_Amount_of_Payment_USDollars\").cast(\"float\")) \\\n",
    "    .groupBy(\"Covered_Recipient_Specialty_1\") \\\n",
    "    .agg(F.sum(\"Total_Amount_of_Payment_USDollars\").alias(\"total_amount\"))\n",
    "\n",
    "q4 = specialty.orderBy(F.col(\"total_amount\").desc()).limit(10)\n",
    "q4.show()\n",
    "\n",
    "# Q5. Top ten physicians by total amount\n",
    "physician = df1.withColumn(\"Total_Amount_of_Payment_USDollars\", F.col(\"Total_Amount_of_Payment_USDollars\").cast(\"float\")) \\\n",
    "    .groupBy(\"Covered_Recipient_NPI\") \\\n",
    "    .agg(F.sum(\"Total_Amount_of_Payment_USDollars\").alias(\"total_amount\"))\n",
    "\n",
    "q5 = physician.orderBy(F.col(\"total_amount\").desc()).limit(10)\n",
    "q5.show()"
   ]
  },
  {
   "cell_type": "code",
   "execution_count": 0,
   "metadata": {
    "application/vnd.databricks.v1+cell": {
     "cellMetadata": {
      "byteLimit": 2048000,
      "rowLimit": 10000
     },
     "inputWidgets": {},
     "nuid": "ded8fb2e-0f7a-46e0-9665-f39e177296cb",
     "showTitle": false,
     "tableResultSettingsMap": {},
     "title": ""
    }
   },
   "outputs": [
    {
     "output_type": "stream",
     "name": "stdout",
     "output_type": "stream",
     "text": [
      "+---------------------+------------------------------------+-----------------------------------+--------------------+\n|Covered_Recipient_NPI|Covered_Recipient_Profile_First_Name|Covered_Recipient_Profile_Last_Name|        total_amount|\n+---------------------+------------------------------------+-----------------------------------+--------------------+\n|           1366487498|                             STEPHEN|                           BURKHART|  3.39220252890625E7|\n|           1205980448|                             WILLIAM|                             BINDER|2.9434355869995117E7|\n|           1861451874|                               KEVIN|                              FOLEY|1.7306535259869576E7|\n|           1336247469|                                IVAN|                             OSORIO|        1.60655155E7|\n|           1295737930|                              GEORGE|                            MAXWELL|1.1600320239997864E7|\n|           1932140266|                              ROBERT|                              BOOTH|       8459144.28125|\n|           1669457354|                                NEAL|                         ELATTRACHE|  7810628.3250312805|\n|           1275512964|                               AARON|                          ROSENBERG|       6871466.53125|\n|           1811044548|                               ROGER|                            JACKSON|   6660383.840976715|\n|           1629021571|                               PETER|                            BONUTTI|   6385096.192497253|\n+---------------------+------------------------------------+-----------------------------------+--------------------+\n\n"
     ]
    }
   ],
   "source": [
    "# Q5. with names\n",
    "phy = df1.join(df2, df1.Covered_Recipient_NPI == df2.Covered_Recipient_NPI, \"inner\") \\\n",
    "    .select(df1.Covered_Recipient_NPI, df2.Covered_Recipient_Profile_First_Name, df2.Covered_Recipient_Profile_Last_Name, \n",
    "            df1.Total_Amount_of_Payment_USDollars)\n",
    "\n",
    "# Convert 'Total_Amount_of_Payment_USDollars' to float\n",
    "phy = phy.withColumn(\"Total_Amount_of_Payment_USDollars\", F.col(\"Total_Amount_of_Payment_USDollars\").cast(\"float\"))\n",
    "\n",
    "# Group by 'Covered_Recipient_NPI' and sum the 'Total_Amount_of_Payment_USDollars', including the physician's name\n",
    "Tot = phy.groupBy(\"Covered_Recipient_NPI\", \"Covered_Recipient_Profile_First_Name\", \"Covered_Recipient_Profile_Last_Name\") \\\n",
    "    .agg(F.sum(\"Total_Amount_of_Payment_USDollars\").alias(\"total_amount\"))\n",
    "\n",
    "# Order by total amount in descending order and take the top 10 physicians\n",
    "Q5_1 = Tot.orderBy(F.col(\"total_amount\").desc()).limit(10)\n",
    "\n",
    "# Show the results\n",
    "Q5_1.show()"
   ]
  }
 ],
 "metadata": {
  "application/vnd.databricks.v1+notebook": {
   "computePreferences": null,
   "dashboards": [],
   "environmentMetadata": null,
   "language": "python",
   "notebookMetadata": {
    "pythonIndentUnit": 4
   },
   "notebookName": "2025-03-23 - DBFS_week07",
   "widgets": {}
  }
 },
 "nbformat": 4,
 "nbformat_minor": 0
}
